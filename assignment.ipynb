{
 "cells": [
  {
   "cell_type": "code",
   "execution_count": 1,
   "metadata": {
    "collapsed": true
   },
   "outputs": [],
   "source": [
    "# Import libraries\n",
    "import numpy as np\n",
    "import pandas as pd\n",
    "import matplotlib.pyplot as plt\n",
    "from sklearn.linear_model import LinearRegression"
   ]
  },
  {
   "cell_type": "code",
   "execution_count": 2,
   "metadata": {
    "collapsed": true
   },
   "outputs": [],
   "source": [
    "#Load dataset from the github repository\n",
    "column_names = [\"Population\", \"Profit\"]\n",
    "data = pd.read_csv(\"C:\\\\Users\\JOHN ABAJO\\\\Documents\\\\Bluetooth Folder\\\\ex1data1.txt\", names = column_names)"
   ]
  },
  {
   "cell_type": "code",
   "execution_count": 4,
   "metadata": {},
   "outputs": [
    {
     "data": {
      "text/plain": [
       "(97, 2)"
      ]
     },
     "execution_count": 4,
     "metadata": {},
     "output_type": "execute_result"
    }
   ],
   "source": [
    "#Determine the datashape\n",
    "data.shape"
   ]
  },
  {
   "cell_type": "code",
   "execution_count": 6,
   "metadata": {},
   "outputs": [
    {
     "data": {
      "text/plain": [
       "(97,)"
      ]
     },
     "execution_count": 6,
     "metadata": {},
     "output_type": "execute_result"
    }
   ],
   "source": [
    "data[\"Population\"].shape"
   ]
  },
  {
   "cell_type": "code",
   "execution_count": 7,
   "metadata": {},
   "outputs": [
    {
     "data": {
      "text/plain": [
       "(97,)"
      ]
     },
     "execution_count": 7,
     "metadata": {},
     "output_type": "execute_result"
    }
   ],
   "source": [
    "data[\"Profit\"].shape"
   ]
  },
  {
   "cell_type": "code",
   "execution_count": 25,
   "metadata": {},
   "outputs": [
    {
     "data": {
      "text/html": [
       "<div>\n",
       "<style>\n",
       "    .dataframe thead tr:only-child th {\n",
       "        text-align: right;\n",
       "    }\n",
       "\n",
       "    .dataframe thead th {\n",
       "        text-align: left;\n",
       "    }\n",
       "\n",
       "    .dataframe tbody tr th {\n",
       "        vertical-align: top;\n",
       "    }\n",
       "</style>\n",
       "<table border=\"1\" class=\"dataframe\">\n",
       "  <thead>\n",
       "    <tr style=\"text-align: right;\">\n",
       "      <th></th>\n",
       "      <th>Population</th>\n",
       "      <th>Profit</th>\n",
       "    </tr>\n",
       "  </thead>\n",
       "  <tbody>\n",
       "    <tr>\n",
       "      <th>92</th>\n",
       "      <td>5.8707</td>\n",
       "      <td>7.20290</td>\n",
       "    </tr>\n",
       "    <tr>\n",
       "      <th>93</th>\n",
       "      <td>5.3054</td>\n",
       "      <td>1.98690</td>\n",
       "    </tr>\n",
       "    <tr>\n",
       "      <th>94</th>\n",
       "      <td>8.2934</td>\n",
       "      <td>0.14454</td>\n",
       "    </tr>\n",
       "    <tr>\n",
       "      <th>95</th>\n",
       "      <td>13.3940</td>\n",
       "      <td>9.05510</td>\n",
       "    </tr>\n",
       "    <tr>\n",
       "      <th>96</th>\n",
       "      <td>5.4369</td>\n",
       "      <td>0.61705</td>\n",
       "    </tr>\n",
       "  </tbody>\n",
       "</table>\n",
       "</div>"
      ],
      "text/plain": [
       "    Population   Profit\n",
       "92      5.8707  7.20290\n",
       "93      5.3054  1.98690\n",
       "94      8.2934  0.14454\n",
       "95     13.3940  9.05510\n",
       "96      5.4369  0.61705"
      ]
     },
     "execution_count": 25,
     "metadata": {},
     "output_type": "execute_result"
    }
   ],
   "source": [
    "#Last five samples ofthe dataset\n",
    "data.tail(5)"
   ]
  },
  {
   "cell_type": "code",
   "execution_count": 9,
   "metadata": {
    "collapsed": true
   },
   "outputs": [],
   "source": [
    "x = data[\"Population\"]"
   ]
  },
  {
   "cell_type": "code",
   "execution_count": 10,
   "metadata": {
    "collapsed": true
   },
   "outputs": [],
   "source": [
    "y = data[\"Profit\"]"
   ]
  },
  {
   "cell_type": "code",
   "execution_count": 14,
   "metadata": {},
   "outputs": [
    {
     "data": {
      "text/plain": [
       "(97, 1)"
      ]
     },
     "execution_count": 14,
     "metadata": {},
     "output_type": "execute_result"
    }
   ],
   "source": [
    "#The regressor (x) should be of two dimensions and hence it should be reshaped\n",
    "x.reshape(1, 1)\n",
    "x.shape"
   ]
  },
  {
   "cell_type": "code",
   "execution_count": 26,
   "metadata": {},
   "outputs": [
    {
     "data": {
      "text/plain": [
       "<matplotlib.axes._subplots.AxesSubplot at 0x7c1295db00>"
      ]
     },
     "execution_count": 26,
     "metadata": {},
     "output_type": "execute_result"
    }
   ],
   "source": [
    "#Visualize the data using scatterplot\n",
    "data.plot(kind = \"scatter\", x = \"Population\", y = \"Profit\")"
   ]
  },
  {
   "cell_type": "code",
   "execution_count": 15,
   "metadata": {
    "collapsed": true
   },
   "outputs": [],
   "source": [
    "model = LinearRegression()"
   ]
  },
  {
   "cell_type": "code",
   "execution_count": 16,
   "metadata": {},
   "outputs": [
    {
     "data": {
      "text/plain": [
       "LinearRegression(copy_X=True, fit_intercept=True, n_jobs=1, normalize=False)"
      ]
     },
     "execution_count": 16,
     "metadata": {},
     "output_type": "execute_result"
    }
   ],
   "source": [
    "model.fit(x, y)"
   ]
  },
  {
   "cell_type": "code",
   "execution_count": 20,
   "metadata": {},
   "outputs": [],
   "source": [
    "model = LinearRegression().fit(x,y)"
   ]
  },
  {
   "cell_type": "code",
   "execution_count": 21,
   "metadata": {
    "collapsed": true
   },
   "outputs": [],
   "source": [
    "r_sq = model.score(x,y)"
   ]
  },
  {
   "cell_type": "code",
   "execution_count": 22,
   "metadata": {},
   "outputs": [
    {
     "data": {
      "text/plain": [
       "0.70203155378413973"
      ]
     },
     "execution_count": 22,
     "metadata": {},
     "output_type": "execute_result"
    }
   ],
   "source": [
    "# R2 value is to check the relationship between the two variables.\n",
    "r_sq"
   ]
  },
  {
   "cell_type": "code",
   "execution_count": 23,
   "metadata": {},
   "outputs": [
    {
     "name": "stdout",
     "output_type": "stream",
     "text": [
      "The coefficient of determination is: 0.702031553784\n"
     ]
    }
   ],
   "source": [
    "print(\"The coefficient of determination is:\", r_sq)"
   ]
  },
  {
   "cell_type": "code",
   "execution_count": 35,
   "metadata": {
    "scrolled": true
   },
   "outputs": [
    {
     "name": "stdout",
     "output_type": "stream",
     "text": [
      "Intercept is: -3.89578087831\n",
      "Slope/Coefficient is: [ 1.19303364]\n"
     ]
    }
   ],
   "source": [
    "#Next is to check the intercept and slope value\n",
    "print(\"Intercept is:\", model.intercept_)\n",
    "print(\"Slope/Coefficient is:\", model.coef_)"
   ]
  },
  {
   "cell_type": "code",
   "execution_count": 39,
   "metadata": {},
   "outputs": [],
   "source": [
    "#apply data normalization\n",
    "from sklearn import preprocessing\n",
    "normalized_data = preprocessing.normalize(data)"
   ]
  },
  {
   "cell_type": "code",
   "execution_count": 40,
   "metadata": {},
   "outputs": [
    {
     "data": {
      "text/plain": [
       "array([[ 0.32809635,  0.94464427],\n",
       "       [ 0.51790734,  0.85543672],\n",
       "       [ 0.52909866,  0.84856031],\n",
       "       [ 0.50865198,  0.86097222],\n",
       "       [ 0.65151259,  0.75863782],\n",
       "       [ 0.57635194,  0.81720159],\n",
       "       [ 0.86442901,  0.50275489],\n",
       "       [ 0.58153764,  0.8135195 ],\n",
       "       [ 0.70100138,  0.71315991],\n",
       "       [ 0.79805191,  0.60258871],\n",
       "       [ 0.86896699,  0.49487006],\n",
       "       [ 0.6744579 ,  0.73831331],\n",
       "       [ 0.87612557,  0.48208297],\n",
       "       [ 0.75842701,  0.65175799],\n",
       "       [ 0.99203591,  0.12595534],\n",
       "       [ 0.83728316,  0.54676953],\n",
       "       [ 0.76820347,  0.64020577],\n",
       "       [ 0.9940787 ,  0.1086625 ],\n",
       "       [ 0.86953681,  0.49386813],\n",
       "       [ 0.79532197,  0.60618723],\n",
       "       [ 0.89187366,  0.45228461],\n",
       "       [ 0.68149367,  0.73182401],\n",
       "       [ 0.78984543,  0.61330596],\n",
       "       [ 0.77326192,  0.63408675],\n",
       "       [ 0.8747646 ,  0.48454813],\n",
       "       [ 0.64178241,  0.76688679],\n",
       "       [ 0.68880732,  0.72494447],\n",
       "       [ 0.8410767 ,  0.54091587],\n",
       "       [ 0.6676535 ,  0.74447216],\n",
       "       [ 0.67685442,  0.7361169 ],\n",
       "       [ 0.97406889, -0.22625163],\n",
       "       [ 0.73959157,  0.67305594],\n",
       "       [ 0.60617789,  0.79532909],\n",
       "       [ 0.95409596,  0.29950108],\n",
       "       [ 0.78208835,  0.62316757],\n",
       "       [ 0.86687821,  0.49851998],\n",
       "       [ 0.89139222,  0.45323274],\n",
       "       [ 0.85553299,  0.5177483 ],\n",
       "       [ 0.78537899,  0.61901521],\n",
       "       [ 0.75621195,  0.65432675],\n",
       "       [ 0.99474372,  0.10239592],\n",
       "       [ 0.86940291,  0.49410381],\n",
       "       [ 0.9084987 ,  0.41788768],\n",
       "       [ 0.92108853,  0.38935322],\n",
       "       [ 0.75806267,  0.65218172],\n",
       "       [ 0.98929485,  0.14593044],\n",
       "       [ 0.70269277,  0.71149341],\n",
       "       [ 0.95301592,  0.30292022],\n",
       "       [ 0.82533892,  0.56463764],\n",
       "       [ 0.98354543,  0.18066098],\n",
       "       [ 0.74504953,  0.66700914],\n",
       "       [ 0.94485838,  0.32747922],\n",
       "       [ 0.86590875,  0.500202  ],\n",
       "       [ 0.83561583,  0.54931429],\n",
       "       [ 0.97566186,  0.2192805 ],\n",
       "       [ 0.97592599, -0.21810194],\n",
       "       [ 0.93020878,  0.36703083],\n",
       "       [ 0.77463676,  0.63240643],\n",
       "       [ 0.92013281,  0.39160644],\n",
       "       [ 0.86776655,  0.49697204],\n",
       "       [ 0.86287325,  0.50542037],\n",
       "       [ 0.98987202, -0.14196263],\n",
       "       [ 0.76473689,  0.64434267],\n",
       "       [ 0.77761158,  0.62874497],\n",
       "       [ 0.74347156,  0.66876755],\n",
       "       [ 0.82816093,  0.56049039],\n",
       "       [ 0.82212547,  0.56930635],\n",
       "       [ 0.79631058,  0.60488797],\n",
       "       [ 0.98331744,  0.18189781],\n",
       "       [ 0.69588345,  0.71815473],\n",
       "       [ 0.83498264,  0.55027629],\n",
       "       [ 0.87662314,  0.4811776 ],\n",
       "       [ 0.97808985,  0.20818322],\n",
       "       [ 0.90766909,  0.41968657],\n",
       "       [ 0.88237578, -0.47054541],\n",
       "       [ 0.99897443,  0.04527797],\n",
       "       [ 0.88892756,  0.4580478 ],\n",
       "       [ 0.66205411,  0.74945604],\n",
       "       [ 0.83566388,  0.54924118],\n",
       "       [ 0.92756465,  0.37366271],\n",
       "       [ 0.99651551,  0.08340765],\n",
       "       [ 0.99922634,  0.0393285 ],\n",
       "       [ 0.99434816,  0.10616842],\n",
       "       [ 0.79148257,  0.61119174],\n",
       "       [ 0.77323509,  0.63411947],\n",
       "       [ 0.89514491,  0.44577527],\n",
       "       [ 0.80364294,  0.59511177],\n",
       "       [ 0.9882833 ,  0.15263066],\n",
       "       [ 0.99962115,  0.02752381],\n",
       "       [ 0.87337771,  0.4870435 ],\n",
       "       [ 0.95151816,  0.30759258],\n",
       "       [ 0.8715603 ,  0.49028833],\n",
       "       [ 0.63178098,  0.77514695],\n",
       "       [ 0.93648142,  0.35071718],\n",
       "       [ 0.99984816,  0.01742567],\n",
       "       [ 0.82844261,  0.56007396],\n",
       "       [ 0.99362123,  0.11276904]])"
      ]
     },
     "execution_count": 40,
     "metadata": {},
     "output_type": "execute_result"
    }
   ],
   "source": [
    "normalized_data"
   ]
  },
  {
   "cell_type": "code",
   "execution_count": 45,
   "metadata": {},
   "outputs": [
    {
     "data": {
      "text/plain": [
       "(97, 2)"
      ]
     },
     "execution_count": 45,
     "metadata": {},
     "output_type": "execute_result"
    }
   ],
   "source": [
    "normalized_data.shape"
   ]
  },
  {
   "cell_type": "code",
   "execution_count": 50,
   "metadata": {
    "collapsed": true
   },
   "outputs": [],
   "source": [
    "new_y = normalized_data[:2]\n"
   ]
  }
 ],
 "metadata": {
  "kernelspec": {
   "display_name": "Python 3",
   "language": "python",
   "name": "python3"
  },
  "language_info": {
   "codemirror_mode": {
    "name": "ipython",
    "version": 3
   },
   "file_extension": ".py",
   "mimetype": "text/x-python",
   "name": "python",
   "nbconvert_exporter": "python",
   "pygments_lexer": "ipython3",
   "version": "3.6.1"
  }
 },
 "nbformat": 4,
 "nbformat_minor": 2
}
